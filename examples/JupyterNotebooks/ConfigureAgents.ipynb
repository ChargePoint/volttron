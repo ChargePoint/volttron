{
 "cells": [
  {
   "cell_type": "markdown",
   "metadata": {},
   "source": [
    "# Configure Agents"
   ]
  },
  {
   "cell_type": "code",
   "execution_count": null,
   "metadata": {},
   "outputs": [],
   "source": [
    "import os\n",
    "\n",
    "# Set up local variables.\n",
    "vroot = %env VOLTTRON_ROOT\n",
    "vhome = %env VOLTTRON_HOME\n",
    "data_dir = vhome + '/data'"
   ]
  },
  {
   "cell_type": "markdown",
   "metadata": {},
   "source": [
    "# configure_simulation_agent()"
   ]
  },
  {
   "cell_type": "markdown",
   "metadata": {},
   "source": [
    "Simulations can be set up to use a wide range of varying parameters, or\n",
    "at the other extreme they can be run with \"out of the box\" parameters."
   ]
  },
  {
   "cell_type": "code",
   "execution_count": null,
   "metadata": {},
   "outputs": [],
   "source": [
    "def configure_simulation_agent():\n",
    "    config = \"\"\"{\n",
    "        \"agent_id\": \"simulation\",\n",
    "        \"heartbeat_period\": 5,\n",
    "        \"positive_dispatch_kw\": 15.0,\n",
    "        \"negative_dispatch_kw\": -15.0,\n",
    "        \"go_positive_if_below\": 0.1,\n",
    "        \"go_negative_if_above\": 0.9,\n",
    "        \"sim_start\":  \"2017-02-02 13:00:00\",\n",
    "        \"sim_end\": \"2017-02-02 16:00:00\",\n",
    "        \"sim_speed\": 90.0,\n",
    "        \"report_interval\": 15,\n",
    "        \"report_file_path\": \"$VOLTTRON_HOME/run/simulation_out.csv\",\n",
    "        \"load_csv_file_path\": \"$VOLTTRON_ROOT/applications/kisensum/Simulation/SimulationAgent/data/load_and_pv.csv\",\n",
    "        \"load_timestamp_column_header\": \"local_date\",\n",
    "        \"load_power_column_header\": \"load_kw\",\n",
    "        \"load_data_frequency_min\": 15,\n",
    "        \"load_data_year\": \"2015\",\n",
    "        \"pv_csv_file_path\": \"$VOLTTRON_ROOT/applications/kisensum/Simulation/SimulationAgent/data/nrel_pv_readings.csv\",\n",
    "        \"pv_panel_area\": 50.0,\n",
    "        \"pv_efficiency\": 0.75,\n",
    "        \"pv_data_frequency_min\": 30,\n",
    "        \"pv_data_year\": \"2015\",\n",
    "        \"storage_max_charge_kw\": 15.0,\n",
    "        \"storage_max_discharge_kw\": 15.0,\n",
    "        \"storage_max_soc_kwh\": 50.0,\n",
    "        \"storage_soc_kwh\": 25.0,\n",
    "        \"storage_reduced_charge_soc_threshold\": 0.8,\n",
    "        \"storage_reduced_discharge_soc_threshold\": 0.2,\n",
    "        \"storage_setpoint_rule\": \"oscillation\",\n",
    "        \"sim_driver_list\": [\n",
    "            \"campus1/building1/unit1/simload\",\n",
    "            \"campus1/building1/unit1/simpv\",\n",
    "            \"campus1/building1/unit1/simstorage\"\n",
    "        ]\n",
    "    }\"\"\"\n",
    "    config_path = vhome + '/my_simulation.config'\n",
    "    with open(config_path, 'w') as file:\n",
    "        file.write(config)\n",
    "    return config_path"
   ]
  },
  {
   "cell_type": "code",
   "execution_count": null,
   "metadata": {},
   "outputs": [],
   "source": [
    "def configure_simulation_agent_with_custom_rule():\n",
    "    config = \"\"\"{\n",
    "        \"agent_id\": \"simulation\",\n",
    "        \"heartbeat_period\": 5,\n",
    "        \"positive_dispatch_kw\": 15.0,\n",
    "        \"negative_dispatch_kw\": -15.0,\n",
    "        \"go_positive_if_below\": 0.1,\n",
    "        \"go_negative_if_above\": 0.9,\n",
    "        \"sim_start\":  \"2017-02-02 13:00:00\",\n",
    "        \"sim_end\": \"2017-02-02 16:00:00\",\n",
    "        \"sim_speed\": 10.0,\n",
    "        \"report_interval\": 5,\n",
    "        \"report_file_path\": \"$VOLTTRON_HOME/run/simulation_out.csv\",\n",
    "        \"load_csv_file_path\": \"$VOLTTRON_ROOT/applications/kisensum/Simulation/SimulationAgent/data/load_and_pv.csv\",\n",
    "        \"load_timestamp_column_header\": \"local_date\",\n",
    "        \"load_power_column_header\": \"load_kw\",\n",
    "        \"load_data_frequency_min\": 15,\n",
    "        \"load_data_year\": \"2015\",\n",
    "        \"pv_csv_file_path\": \"$VOLTTRON_ROOT/applications/kisensum/Simulation/SimulationAgent/data/nrel_pv_readings.csv\",\n",
    "        \"pv_panel_area\": 50.0,\n",
    "        \"pv_efficiency\": 0.75,\n",
    "        \"pv_data_frequency_min\": 30,\n",
    "        \"pv_data_year\": \"2015\",\n",
    "        \"storage_max_charge_kw\": 15.0,\n",
    "        \"storage_max_discharge_kw\": 15.0,\n",
    "        \"storage_max_soc_kwh\": 50.0,\n",
    "        \"storage_soc_kwh\": 25.0,\n",
    "        \"storage_reduced_charge_soc_threshold\": 0.8,\n",
    "        \"storage_reduced_discharge_soc_threshold\": 0.2,\n",
    "        \"storage_setpoint_rule\": \"custom\",\n",
    "        \"sim_driver_list\": [\n",
    "            \"campus1/building1/unit1/simload\",\n",
    "            \"campus1/building1/unit1/simpv\",\n",
    "            \"campus1/building1/unit1/simstorage\"\n",
    "        ]\n",
    "    }\"\"\"\n",
    "    config_path = vhome + '/my_simulation.config'\n",
    "    with open(config_path, 'w') as file:\n",
    "        file.write(config)\n",
    "    return config_path"
   ]
  },
  {
   "cell_type": "markdown",
   "metadata": {},
   "source": [
    "# configure_actuator_agent()"
   ]
  },
  {
   "cell_type": "code",
   "execution_count": null,
   "metadata": {},
   "outputs": [],
   "source": [
    "def configure_actuator_agent():\n",
    "    config = \"\"\"{\n",
    "        \"schedule_publish_interval\": 10,\n",
    "        \"schedule_state_file\": \"actuator_state.test\",\n",
    "        \"driver_vip_identity\": \"simulation.driver\"\n",
    "    }\"\"\"\n",
    "    config_path = vhome + '/my_actuator.config'\n",
    "    with open(config_path, 'w') as file:\n",
    "        file.write(config)\n",
    "    return config_path"
   ]
  },
  {
   "cell_type": "markdown",
   "metadata": {},
   "source": [
    "# configure_ven_agent()"
   ]
  },
  {
   "cell_type": "code",
   "execution_count": null,
   "metadata": {
    "collapsed": true
   },
   "outputs": [],
   "source": [
    "def configure_ven_agent():\n",
    "    config = \"\"\"{\n",
    "    # VTN server parameters: Kisensum VTN server on AWS host\n",
    "    #\n",
    "    #\"ven_id\": \"0\",\n",
    "    #\"ven_name\": \"ven01\",\n",
    "    #\"vtn_id\": \"vtn01\",\n",
    "    #\"vtn_address\": \"http://openadr-vtn.ki-evi.com:8000\",\n",
    "    #\n",
    "    # VTN server parameters: Kisensum VTN server on localhost\n",
    "    #\n",
    "    \"ven_id\": \"0\",\n",
    "    \"ven_name\": \"ven01\",\n",
    "    \"vtn_id\": \"vtn01\",\n",
    "    \"vtn_address\": \"http://localhost:8000\",\n",
    "    #\n",
    "    # VTN server parameters: EPRI VTN server on AWS host\n",
    "    #\n",
    "    # \"ven_id\": \"919a1dfa088fe14b79f9\",\n",
    "    # \"ven_name\": \"ven_01\",\n",
    "    # \"vtn_id\": \"EPRI_VTN\",\n",
    "    # \"vtn_address\": \"http://openadr-vtn.ki-evi.com:8080\",\n",
    "    #\n",
    "    # Other VEN parameters\n",
    "    #\n",
    "    \"db_path\": \"$VOLTTRON_HOME/data/openadr.sqlite\",\n",
    "    \"send_registration\": \"False\",\n",
    "    \"security_level\": \"standard\",\n",
    "    \"poll_interval_secs\": 10000,\n",
    "    \"log_xml\": \"False\",\n",
    "    \"opt_in_timeout_secs\": 3600,\n",
    "    \"opt_in_default_decision\": \"optOut\",\n",
    "    \"request_events_on_startup\": \"False\",\n",
    "    #\n",
    "    # VEN reporting configuration\n",
    "    #\n",
    "    \"report_parameters\": {\n",
    "        \"telemetry\": {\n",
    "            \"report_name\": \"TELEMETRY_USAGE\",\n",
    "            \"report_name_metadata\": \"METADATA_TELEMETRY_USAGE\",\n",
    "            \"report_specifier_id\": \"telemetry\",\n",
    "            \"report_interval_secs_default\": \"30\",\n",
    "            \"telemetry_parameters\": {\n",
    "                \"baseline_power_kw\": {\n",
    "                    \"r_id\": \"baseline_power\",\n",
    "                    \"report_type\": \"baseline\",\n",
    "                    \"reading_type\": \"Direct Read\",\n",
    "                    \"units\": \"powerReal\",\n",
    "                    \"method_name\": \"get_baseline_power\",\n",
    "                    \"min_frequency\": 30,\n",
    "                    \"max_frequency\": 60\n",
    "                },\n",
    "                \"current_power_kw\": {\n",
    "                    \"r_id\": \"actual_power\",\n",
    "                    \"report_type\": \"reading\",\n",
    "                    \"reading_type\": \"Direct Read\",\n",
    "                    \"units\": \"powerReal\",\n",
    "                    \"method_name\": \"get_current_power\",\n",
    "                    \"min_frequency\": 30,\n",
    "                    \"max_frequency\": 60\n",
    "                }\n",
    "            }\n",
    "        },\n",
    "        \"telemetry_status\": {\n",
    "            \"report_name\": \"TELEMETRY_STATUS\",\n",
    "            \"report_name_metadata\": \"METADATA_TELEMETRY_STATUS\",\n",
    "            \"report_specifier_id\": \"telemetry_status\",\n",
    "            \"report_interval_secs_default\": \"300\",\n",
    "            \"telemetry_parameters\": {\n",
    "                \"status\": {\n",
    "                    \"r_id\": \"Status\",\n",
    "                    \"report_type\": \"x-resourceStatus\",\n",
    "                    \"reading_type\": \"x-notApplicable\",\n",
    "                    \"units\": \"\",\n",
    "                    \"method_name\": \"\",\n",
    "                    \"min_frequency\": 60,\n",
    "                    \"max_frequency\": 120\n",
    "                }\n",
    "            }\n",
    "        }\n",
    "    }\n",
    "}\"\"\"\n",
    "    config_path = vhome + '/my_ven.config'\n",
    "    with open(config_path, 'w') as file:\n",
    "        file.write(config)\n",
    "    return config_path"
   ]
  },
  {
   "cell_type": "markdown",
   "metadata": {},
   "source": [
    "# configure_listener_agent()"
   ]
  },
  {
   "cell_type": "code",
   "execution_count": null,
   "metadata": {},
   "outputs": [],
   "source": [
    "def configure_listener_agent():\n",
    "    config = \"\"\"{\n",
    "    }\"\"\"\n",
    "    config_path = vhome + '/my_listener.config'\n",
    "    with open(config_path, 'w') as file:\n",
    "        file.write(config)\n",
    "    return config_path"
   ]
  },
  {
   "cell_type": "markdown",
   "metadata": {},
   "source": [
    "# configure_sql_historian()"
   ]
  },
  {
   "cell_type": "code",
   "execution_count": null,
   "metadata": {},
   "outputs": [],
   "source": [
    "\n",
    "\n",
    "def configure_sql_historian():\n",
    "    \"\"\"\n",
    "        Create a SQLHistorian configuration specifically for this project\n",
    "\n",
    "        The historian's database will reside in $VOLTTRON_HOME/data. \n",
    "        Make sure that the directory exists.\n",
    "    \"\"\"\n",
    "    if not os.path.exists(data_dir):\n",
    "        # Enable one Jupyter notebook to import and run the contents of another notebook.\n",
    "        vroot = %env VOLTTRON_ROOT\n",
    "        notebooks = vroot + '/examples/JupyterNotebooks'\n",
    "        os.chdir(notebooks)\n",
    "        import notebook_loader\n",
    "\n",
    "        # Import notebooks containing utility functions.\n",
    "        import NotebookUtilities\n",
    "        \n",
    "        NotebookUtilities.sh('mkdir {0}'.format(data_dir))\n",
    "        os.chdir(vroot)\n",
    "    config = \"\"\"{{\n",
    "        \"agentid\": \"sqlhistorian-sqlite\",\n",
    "        \"connection\": {{\n",
    "            \"type\": \"sqlite\",\n",
    "            \"params\": {{\n",
    "                \"database\": \"{0}/historian.sqlite\"\n",
    "            }}\n",
    "        }},\n",
    "        \"tables_def\": {{\n",
    "            \"table_prefix\": \"\",\n",
    "            \"data_table\": \"data_table\",\n",
    "            \"topics_table\": \"topics_table\",\n",
    "            \"meta_table\": \"meta_table\"\n",
    "        }}\n",
    "    }}\"\"\".format(data_dir)\n",
    "    config_path = vhome + '/my_aggregator_historian.config'\n",
    "    with open(config_path, 'w') as file:\n",
    "        file.write(config)\n",
    "    return config_path"
   ]
  },
  {
   "cell_type": "markdown",
   "metadata": {},
   "source": [
    "# configure_platform_historian()"
   ]
  },
  {
   "cell_type": "code",
   "execution_count": null,
   "metadata": {},
   "outputs": [],
   "source": [
    "def configure_platform_historian():\n",
    "    \"\"\"\n",
    "        Create a platform SQLHistorian configuration specifically for this project\n",
    "\n",
    "        The historian's database will reside in $VOLTTRON_HOME/data. \n",
    "        Make sure that the directory exists.\n",
    "    \"\"\"\n",
    "    if not os.path.exists(data_dir):\n",
    "        # Enable one Jupyter notebook to import and run the contents of another notebook.\n",
    "        vroot = %env VOLTTRON_ROOT\n",
    "        notebooks = vroot + '/examples/JupyterNotebooks'\n",
    "        os.chdir(notebooks)\n",
    "        import notebook_loader\n",
    "\n",
    "        # Import notebooks containing utility functions.\n",
    "        import NotebookUtilities\n",
    "        \n",
    "        NotebookUtilities.sh('mkdir {0}'.format(data_dir))\n",
    "        os.chdir(vroot)\n",
    "    config = \"\"\"{{\n",
    "        \"agentid\": \"sqlhistorian-sqlite\",\n",
    "        \"connection\": {{\n",
    "            \"type\": \"sqlite\",\n",
    "            \"params\": {{\n",
    "                \"database\": \"{0}/platform.historian.sqlite\"\n",
    "            }}\n",
    "        }}\n",
    "    }}\"\"\".format(data_dir)\n",
    "    config_path = vhome + '/my_platform_historian.config'\n",
    "    with open(config_path, 'w') as file:\n",
    "        file.write(config)\n",
    "    return config_path"
   ]
  },
  {
   "cell_type": "markdown",
   "metadata": {},
   "source": [
    "# configure_volttron_central_platform()"
   ]
  },
  {
   "cell_type": "code",
   "execution_count": null,
   "metadata": {},
   "outputs": [],
   "source": [
    "def configure_volttron_central_platform():\n",
    "    config = \"\"\"{\n",
    "        \"platform-driver-ids\": [\"simulation.driver\"],\n",
    "    }\"\"\"\n",
    "    config_path = vhome + '/my_volttron_central_platform.config'\n",
    "    with open(config_path, 'w') as file:\n",
    "        file.write(config)\n",
    "    return config_path"
   ]
  },
  {
   "cell_type": "code",
   "execution_count": null,
   "metadata": {},
   "outputs": [],
   "source": []
  }
 ],
 "metadata": {
  "kernelspec": {
   "display_name": "Python 2",
   "language": "python",
   "name": "python2"
  },
  "language_info": {
   "codemirror_mode": {
    "name": "ipython",
    "version": 2
   },
   "file_extension": ".py",
   "mimetype": "text/x-python",
   "name": "python",
   "nbconvert_exporter": "python",
   "pygments_lexer": "ipython2",
   "version": "2.7.14"
  }
 },
 "nbformat": 4,
 "nbformat_minor": 2
}
