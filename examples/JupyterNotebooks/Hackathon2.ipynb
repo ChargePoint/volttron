{
 "cells": [
  {
   "cell_type": "markdown",
   "metadata": {},
   "source": [
    "# VOLTTRON Hackathon 2 Notebook"
   ]
  },
  {
   "cell_type": "markdown",
   "metadata": {},
   "source": [
    "This notebook sets up and runs a simulation. Most of the notebook's setup and execution is done with shell commands, called from Python."
   ]
  },
  {
   "cell_type": "markdown",
   "metadata": {},
   "source": [
    "# Setup: Prepare the Volttron Environment"
   ]
  },
  {
   "cell_type": "markdown",
   "metadata": {},
   "source": [
    "VOLTTRON must be installed before using this notebook. For detailed instructions on\n",
    "installing and configuring a VOLTTRON/Jupyter server environment, \n",
    "see [Jupyter Notebooks](http://volttron.readthedocs.io/en/devguides/supporting/utilities/JupyterNotebooks.html) \n",
    "in VOLTTRON ReadTheDocs.\n",
    "\n",
    "As is described in that guide, environment variables should have been defined before starting \n",
    "the Jupyter server:\n",
    "\n",
    "````\n",
    "$ export VOLTTRON_ROOT=~/repos/volttron\n",
    "````\n",
    "        (path of the VOLTTRON repository, installed prior to running bootstrap)\n",
    "\n",
    "````\n",
    "$ export VOLTTRON_HOME=~/.volttron\n",
    "````\n",
    "        (directory in which the VOLTTRON instance runs)\n",
    "\n",
    "The first VOLTTRON instance on a server usually runs, by convention, in ~/.volttron.\n",
    "If multiple VOLTTRON instances are to be run on a single host, each must have its own VOLTTRON_HOME.\n",
    "\n",
    "Also before starting the Jupyter server, a VOLTTRON virtual environment should have been \n",
    "activated by executing the following in $VOLTTRON_ROOT:\n",
    "\n",
    "````\n",
    "$ source env/bin/activate\n",
    "````\n",
    "\n",
    "The simulation software resides in a separate repository, volttron-applications.\n",
    "\n",
    "It must be downloaded from github, creating a new directory parallel to $VOLTTRON_ROOT, as follows:\n",
    "\n",
    "````\n",
    "$ cd $VOLTTRON_ROOT\n",
    "$ cd ..\n",
    "$ git clone git://github.com/VOLTTRON/volttron-applications.git\n",
    "````\n",
    "\n",
    "Then a symbolic link to it, named \"applications\", should be added under $VOLTTRON_ROOT:\n",
    "\n",
    "````\n",
    "$ cd $VOLTTRON_ROOT\n",
    "$ ln -s ../volttron-applications/ applications\n",
    "````\n",
    "\n",
    "The Python code below does some initialization to prepare for the steps that follow."
   ]
  },
  {
   "cell_type": "code",
   "execution_count": null,
   "metadata": {},
   "outputs": [],
   "source": [
    "import datetime\n",
    "import json\n",
    "import os\n",
    "import pprint\n",
    "import sqlite3\n",
    "import subprocess\n",
    "import sys\n",
    "import time\n",
    "\n",
    "# Set up local variables vhome and vroot.\n",
    "# The environment variables VOLTTRON_ROOT and VOLTTRON_HOME should already be defined -- see above.\n",
    "vroot = %env VOLTTRON_ROOT\n",
    "approot = vroot + '/applications'\n",
    "notebooks = vroot + '/examples/JupyterNotebooks'\n",
    "vhome = %env VOLTTRON_HOME\n",
    "data_dir = vhome + '/data'\n",
    "conf = vhome + '/config'\n",
    "with open(conf, 'rb') as config_file:\n",
    "    web_address_line = [line for line in config_file.readlines() if 'bind-web-address' in line][0]\n",
    "web_address = web_address_line.split(':')[-2][2:]\n",
    "web_port = web_address_line.split(':')[-1].strip()\n",
    "\n",
    "try:\n",
    "    # The user home directory if running in a Docker container. Used when looking at the VOLTTRON log.\n",
    "    volttron_user_home = %env VOLTTRON_USER_HOME\n",
    "except:\n",
    "    # When not running in a Docker container, VOLTTRON is managed from VOLTTRON_ROOT.\n",
    "    volttron_user_home = %env VOLTTRON_ROOT\n",
    "print('VOLTTRON_ROOT={}'.format(vroot))\n",
    "print('VOLTTRON applications root={}'.format(approot))\n",
    "print('Jupyter notebooks directory={}'.format(notebooks))\n",
    "print('VOLTTRON_HOME={}'.format(vhome))\n",
    "print('VOLTTRON data directory={}'.format(data_dir))\n",
    "print('VOLTTRON_USER_HOME={}'.format(volttron_user_home))\n",
    "print('Web Address={}'.format(web_address))\n",
    "print('Web Port={}'.format(web_port))\n",
    "\n",
    "# Enable one Jupyter notebook to import and run the contents of another notebook.\n",
    "os.chdir(notebooks)\n",
    "import notebook_loader\n",
    "\n",
    "# Import notebooks containing utility functions.\n",
    "import NotebookUtilities\n",
    "import ConfigureAgents\n",
    "\n",
    "# Define a VIP_SOCKET environment variable for use while installing and running agents.\n",
    "socket_name = 'ipc://' + vhome + '/run/vip.socket'\n",
    "%env VIP_SOCKET=$socket_name\n",
    "\n",
    "# Run from the VOLTTRON root directory.\n",
    "os.chdir(vroot)\n",
    "\n",
    "print(\"Initialization complete\")"
   ]
  },
  {
   "cell_type": "markdown",
   "metadata": {},
   "source": [
    "# Setup: Shut Down All Agents and Delete Test Databases"
   ]
  },
  {
   "cell_type": "markdown",
   "metadata": {},
   "source": [
    "This ensures a clean agent installation process by the notebook."
   ]
  },
  {
   "cell_type": "code",
   "execution_count": null,
   "metadata": {},
   "outputs": [],
   "source": [
    "print('Wait for the list to be displayed.')\n",
    "print('Confirm that no agents are listed as running...\\n')\n",
    "\n",
    "# Shut down all agents.\n",
    "NotebookUtilities.sh('volttron-ctl shutdown')\n",
    "\n",
    "# List agent status to verify that the status of each agent is 0 or blank.\n",
    "NotebookUtilities.print_sh('volttron-ctl status', stderr=subprocess.STDOUT)\n",
    "\n",
    "# Delete the Historian's SQLite database.\n",
    "db_path = data_dir + '/historian.sqlite'\n",
    "if os.path.exists(db_path):\n",
    "    NotebookUtilities.sh('rm {0}'.format(db_path))\n",
    "print('Deleted {}'.format(db_path))\n",
    "\n",
    "# Delete the Platform Historian's SQLite database.\n",
    "db_path = data_dir + '/platform.historian.sqlite'\n",
    "if os.path.exists(db_path):\n",
    "    NotebookUtilities.sh('rm {0}'.format(db_path))\n",
    "print('Deleted {}'.format(db_path))"
   ]
  },
  {
   "cell_type": "markdown",
   "metadata": {},
   "source": [
    "# Setup: Configure the Simulation Device Drivers"
   ]
  },
  {
   "cell_type": "code",
   "execution_count": null,
   "metadata": {},
   "outputs": [],
   "source": [
    "print('Wait for the simulation driver configs to be displayed.')\n",
    "print('Then confirm that all of these configs appear in it...\\n')\n",
    "\n",
    "driver_root = approot + '/kisensum/Simulation/SimulationDriverAgent/'\n",
    "\n",
    "# Install simload, the simulated load driver\n",
    "NotebookUtilities.install_driver_registry_csv(store='simulation.driver', driver_root=driver_root, name='simload.csv', csv='simload.csv')\n",
    "NotebookUtilities.install_driver_config(store='simulation.driver', driver_root=driver_root, name='devices/campus1/building1/unit1/simload', config='simload.config')\n",
    "\n",
    "# Install simmeter, the simulated meter driver\n",
    "NotebookUtilities.install_driver_registry_csv(store='simulation.driver', driver_root=driver_root, name='simmeter.csv', csv='simmeter.csv')\n",
    "NotebookUtilities.install_driver_config(store='simulation.driver', driver_root=driver_root, name='devices/campus1/building1/unit1/simmeter', config='simmeter.config')\n",
    "\n",
    "# Install simpv, the simulated PV driver\n",
    "NotebookUtilities.install_driver_registry_csv(store='simulation.driver', driver_root=driver_root, name='simpv.csv', csv='simpv.csv')\n",
    "NotebookUtilities.install_driver_config(store='simulation.driver', driver_root=driver_root, name='devices/campus1/building1/unit1/simpv', config='simpv.config')\n",
    "\n",
    "# Install simstorage, the simulated storage driver\n",
    "NotebookUtilities.install_driver_registry_csv(store='simulation.driver', driver_root=driver_root, name='simstorage.csv', csv='simstorage.csv')\n",
    "NotebookUtilities.install_driver_config(store='simulation.driver', driver_root=driver_root, name='devices/campus1/building1/unit1/simstorage', config='simstorage.config')\n",
    "\n",
    "# List the Simulation Driver configuration to confirm that the drivers were installed successfully.\n",
    "NotebookUtilities.print_sh('volttron-ctl config list simulation.driver')"
   ]
  },
  {
   "cell_type": "markdown",
   "metadata": {},
   "source": [
    "# Execution: Install and start SimulationDriverAgent"
   ]
  },
  {
   "cell_type": "markdown",
   "metadata": {},
   "source": [
    "SimulationDriverAgent is a copy of MasterDriverAgent, revised to manage simulated\n",
    "device drivers. An important difference is that the simulated execution speed of\n",
    "SimulationDriverAgent is governed by a simulated clock, which can speed up or slow\n",
    "down relative to real time."
   ]
  },
  {
   "cell_type": "code",
   "execution_count": null,
   "metadata": {},
   "outputs": [],
   "source": [
    "print('Wait for the message that the agent has been started.')\n",
    "NotebookUtilities.install_agent(dir=approot+'/kisensum/Simulation/SimulationDriverAgent',\n",
    "                                id='simulation.driver',\n",
    "                                config=approot+'/kisensum/Simulation/SimulationDriverAgent/simulationdriver.config')"
   ]
  },
  {
   "cell_type": "markdown",
   "metadata": {},
   "source": [
    "# Execution: Install and start SimulationClockAgent"
   ]
  },
  {
   "cell_type": "markdown",
   "metadata": {},
   "source": [
    "SimulatedClockAgent manages a simulation's clock. While a simulation is in progress,\n",
    "it responds to \"what time is it?\" RPC calls by returning the current simulated time."
   ]
  },
  {
   "cell_type": "code",
   "execution_count": null,
   "metadata": {},
   "outputs": [],
   "source": [
    "print('Wait for the message that the agent has been started.')\n",
    "NotebookUtilities.install_agent(dir=approot+'/kisensum/Simulation/SimulationClockAgent',\n",
    "                                id='simulationclock', \n",
    "                                config=approot+'/kisensum/Simulation/SimulationClockAgent/simulationclock.config')"
   ]
  },
  {
   "cell_type": "markdown",
   "metadata": {},
   "source": [
    "# Execution: Install and start SimulationAgent"
   ]
  },
  {
   "cell_type": "markdown",
   "metadata": {},
   "source": [
    "SimulationAgent is a control agent that manages a simulation. Based on\n",
    "config parameters, it decides when to start and stop a simulation, how fast\n",
    "the simulation's clock should move relative to real time, which simulated\n",
    "devices will participate, and various adjustable parameters for each of the\n",
    "simulated devices."
   ]
  },
  {
   "cell_type": "code",
   "execution_count": null,
   "metadata": {},
   "outputs": [],
   "source": [
    "print('Wait for the message that the agent has been started.')\n",
    "NotebookUtilities.install_agent(dir=approot+'/kisensum/Simulation/SimulationAgent',\n",
    "                                id='simulationagent', \n",
    "                                config=ConfigureAgents.configure_simulation_agent())"
   ]
  },
  {
   "cell_type": "markdown",
   "metadata": {},
   "source": [
    "# Execution: Install and start ActuatorAgent"
   ]
  },
  {
   "cell_type": "markdown",
   "metadata": {},
   "source": [
    "An ActuatorAgent is a device's gatekeeper, fielding device-control requests\n",
    "from other agents and ensuring that the requests don't conflict."
   ]
  },
  {
   "cell_type": "code",
   "execution_count": null,
   "metadata": {
    "collapsed": true
   },
   "outputs": [],
   "source": [
    "print('Wait for the message that the agent has been started.')\n",
    "NotebookUtilities.install_agent(dir=vroot+'/services/core/ActuatorAgent', \n",
    "                                id='simulation.actuator', \n",
    "                                config=ConfigureAgents.configure_actuator_agent())"
   ]
  },
  {
   "cell_type": "markdown",
   "metadata": {},
   "source": [
    "# Execution: Install and start ListenerAgent"
   ]
  },
  {
   "cell_type": "markdown",
   "metadata": {},
   "source": [
    "ListenerAgent monitors the VOLTTRON message bus for messages matching its criteria."
   ]
  },
  {
   "cell_type": "code",
   "execution_count": null,
   "metadata": {
    "collapsed": true
   },
   "outputs": [],
   "source": [
    "print('Wait for the message that the agent has been started.')\n",
    "NotebookUtilities.install_agent(dir=vroot+'/examples/ListenerAgent', \n",
    "                                id='listener', \n",
    "                                config=ConfigureAgents.configure_listener_agent())"
   ]
  },
  {
   "cell_type": "markdown",
   "metadata": {},
   "source": [
    "# Execution: Install and start SQLHistorian"
   ]
  },
  {
   "cell_type": "markdown",
   "metadata": {},
   "source": [
    "SQLHistorian monitors the VOLTTRON message bus for specific types of data\n",
    "(often device telemetry), and writes the data to a SQLite database."
   ]
  },
  {
   "cell_type": "code",
   "execution_count": null,
   "metadata": {
    "collapsed": true
   },
   "outputs": [],
   "source": [
    "print('Wait for the message that the agent has been started.')\n",
    "NotebookUtilities.install_agent(dir=vroot+'/services/core/SQLHistorian', \n",
    "                                id='sqlite_historian', \n",
    "                                config=ConfigureAgents.configure_sql_historian())"
   ]
  },
  {
   "cell_type": "markdown",
   "metadata": {},
   "source": [
    "# Execution: Install and start Platform Historian"
   ]
  },
  {
   "cell_type": "markdown",
   "metadata": {},
   "source": [
    "PlatformHistorian is a special version of SQLHistorian that writes device\n",
    "telemetry to a SQLite database for display by the user interface that is\n",
    "managed by VolttronCentral. "
   ]
  },
  {
   "cell_type": "code",
   "execution_count": null,
   "metadata": {
    "collapsed": true
   },
   "outputs": [],
   "source": [
    "print('Wait for the message that the agent has been started.')\n",
    "NotebookUtilities.install_agent(dir=vroot+'/services/core/SQLHistorian', \n",
    "                                id='platform.historian', \n",
    "                                config=ConfigureAgents.configure_platform_historian())"
   ]
  },
  {
   "cell_type": "markdown",
   "metadata": {},
   "source": [
    "# Execution: Install and start VolttronCentralPlatform"
   ]
  },
  {
   "cell_type": "markdown",
   "metadata": {},
   "source": [
    "VolttronCentralPlatform manages messaging among multiple VOLTTRON instances."
   ]
  },
  {
   "cell_type": "code",
   "execution_count": null,
   "metadata": {
    "collapsed": true
   },
   "outputs": [],
   "source": [
    "print('Wait for the message that the agent has been started.')\n",
    "NotebookUtilities.install_agent(dir=vroot+'/services/core/VolttronCentralPlatform',\n",
    "                                id='platform.agent',\n",
    "                                config=ConfigureAgents.configure_volttron_central_platform())"
   ]
  },
  {
   "cell_type": "markdown",
   "metadata": {},
   "source": [
    "# Execution: Install and start VolttronCentral"
   ]
  },
  {
   "cell_type": "markdown",
   "metadata": {},
   "source": [
    "VolttronCentral manages VOLTTRON's web user interface."
   ]
  },
  {
   "cell_type": "code",
   "execution_count": null,
   "metadata": {
    "collapsed": true
   },
   "outputs": [],
   "source": [
    "print('Wait for the message that the agent has been started.')\n",
    "NotebookUtilities.install_agent(dir=vroot+'/services/core/VolttronCentral',\n",
    "                                id='volttron.central',\n",
    "                                config=vroot+'/services/core/VolttronCentral/config')"
   ]
  },
  {
   "cell_type": "markdown",
   "metadata": {},
   "source": [
    "# Execution: Check Agent Status"
   ]
  },
  {
   "cell_type": "code",
   "execution_count": null,
   "metadata": {
    "collapsed": true
   },
   "outputs": [],
   "source": [
    "print('Wait for the list to be displayed.')\n",
    "print('Then confirm that each started agent is running...\\n')\n",
    "\n",
    "# List agent status to verify that the started agents have status \"running\".\n",
    "NotebookUtilities.print_sh('volttron-ctl status', stderr=subprocess.STDOUT)"
   ]
  },
  {
   "cell_type": "markdown",
   "metadata": {},
   "source": [
    "# Tail the Log File"
   ]
  },
  {
   "cell_type": "markdown",
   "metadata": {},
   "source": [
    "Display the last 100 lines of the VOLTTRON log file. Useful when debugging."
   ]
  },
  {
   "cell_type": "code",
   "execution_count": null,
   "metadata": {
    "collapsed": true
   },
   "outputs": [],
   "source": [
    "NotebookUtilities.print_sh('tail -100 {}/log1'.format(volttron_user_home))"
   ]
  },
  {
   "cell_type": "markdown",
   "metadata": {},
   "source": [
    "Display the end of the log file again.\n",
    "This time, filter the output to display only lines logged by simulationagent.\n",
    "(Note: this may return an error if none of the lines match the filter.)"
   ]
  },
  {
   "cell_type": "code",
   "execution_count": null,
   "metadata": {
    "collapsed": true
   },
   "outputs": [],
   "source": [
    "NotebookUtilities.print_sh('tail -2000 {}/log1 | grep simulationagent'.format(volttron_user_home))"
   ]
  },
  {
   "cell_type": "markdown",
   "metadata": {},
   "source": [
    "# Data Reporting: Describe the Historian's Database Schema"
   ]
  },
  {
   "cell_type": "markdown",
   "metadata": {},
   "source": [
    "Start the data reporting process by displaying the schema of the Historian's SQLite database."
   ]
  },
  {
   "cell_type": "code",
   "execution_count": null,
   "metadata": {
    "collapsed": true
   },
   "outputs": [],
   "source": [
    "NotebookUtilities.run_sqlite_cmd(data_dir + '/historian.sqlite', '\".schema\"')"
   ]
  },
  {
   "cell_type": "markdown",
   "metadata": {},
   "source": [
    "# Data Reporting: List the Topics"
   ]
  },
  {
   "cell_type": "markdown",
   "metadata": {},
   "source": [
    "List each topic in the database's topics_table. This is the list of each type of data that has been captured and stored."
   ]
  },
  {
   "cell_type": "code",
   "execution_count": null,
   "metadata": {
    "collapsed": true
   },
   "outputs": [],
   "source": [
    "NotebookUtilities.run_sqlite_cmd(data_dir + '/historian.sqlite', '\"SELECT * FROM topics_table;\"')"
   ]
  },
  {
   "cell_type": "markdown",
   "metadata": {},
   "source": [
    "# Data Reporting: List Values for a Single Topic"
   ]
  },
  {
   "cell_type": "markdown",
   "metadata": {},
   "source": [
    "Select a single topic by name, and list each value in the database for it."
   ]
  },
  {
   "cell_type": "code",
   "execution_count": null,
   "metadata": {
    "collapsed": true
   },
   "outputs": [],
   "source": [
    "topic_name = 'campus1/building1/unit1/simstorage/soc_kwh'\n",
    "\n",
    "display_variables = 'ts, value_string'\n",
    "join_statement = 'INNER JOIN topics_table on (data_table.topic_id = topics_table.topic_id) '\n",
    "sqlite_cmd = '''\"SELECT {0} FROM data_table {1} WHERE topics_table.topic_name = '{2}';\"'''.format(\n",
    "    display_variables,\n",
    "    join_statement,\n",
    "    topic_name)\n",
    "print('sqlite command: \\n{0}\\n'.format(sqlite_cmd))\n",
    "\n",
    "NotebookUtilities.run_sqlite_cmd(data_dir + '/historian.sqlite', sqlite_cmd)"
   ]
  },
  {
   "cell_type": "markdown",
   "metadata": {},
   "source": [
    "# Data Reporting: Graph Values for a Single Topic"
   ]
  },
  {
   "cell_type": "markdown",
   "metadata": {},
   "source": [
    "Use numpy and matplotlib to produce a graph of the values for a topic."
   ]
  },
  {
   "cell_type": "code",
   "execution_count": null,
   "metadata": {
    "collapsed": true,
    "scrolled": true
   },
   "outputs": [],
   "source": [
    "topic_name = 'campus1/building1/unit1/simstorage/soc_kwh'\n",
    "\n",
    "display_variables = 'ts, value_string'\n",
    "join_statement = 'INNER JOIN topics_table on (data_table.topic_id = topics_table.topic_id) '\n",
    "sqlite_cmd = '''SELECT {0} FROM data_table {1} WHERE topics_table.topic_name = '{2}';'''.format(\n",
    "    display_variables,\n",
    "    join_statement,\n",
    "    topic_name)\n",
    "print('sqlite command: \\n{0}\\n'.format(sqlite_cmd))\n",
    "\n",
    "import numpy\n",
    "import matplotlib.pyplot as plt\n",
    "from matplotlib import dates\n",
    "\n",
    "# Connect to the SQLite database\n",
    "conn = sqlite3.connect(data_dir + '/historian.sqlite')\n",
    "c = conn.cursor()\n",
    "\n",
    "# Populate graphArray with the result of querying the database for the specified topic.\n",
    "graphArray = []\n",
    "for row in c.execute(sqlite_cmd):\n",
    "    # Remove parentheses and single quotes\n",
    "    row_string_filtered = str(row).translate(None, \"()'u\\'\")\n",
    "    # In Python 3, the Unicode string would need to be filtered like this:\n",
    "    # row_string_filtered = str(row).translate({ord(c): None for c in \"()'u\\'\"})\n",
    "    graphArray.append(row_string_filtered)\n",
    "\n",
    "if graphArray:\n",
    "    timestamps, values = numpy.loadtxt(graphArray,\n",
    "                                       delimiter=',',\n",
    "                                       unpack=True,\n",
    "                                       converters={0: dates.strpdate2num('%Y-%m-%dT%H:%M:%S.%f+00:00')})\n",
    "    fig = plt.figure()\n",
    "    fig.add_subplot(1, 1, 1, facecolor='white')\n",
    "    plt.plot_date(x=timestamps, y=values, fmt='b-')\n",
    "    plt.gcf().autofmt_xdate()\n",
    "    plt.show()\n",
    "else:\n",
    "    print('No data returned from query')"
   ]
  },
  {
   "cell_type": "markdown",
   "metadata": {},
   "source": [
    "# STOP HERE. We will break for lunch and do the exercises when we get back"
   ]
  },
  {
   "cell_type": "markdown",
   "metadata": {},
   "source": [
    "# Exercise #1: Changing the Simulation Storage Algorithm"
   ]
  },
  {
   "cell_type": "markdown",
   "metadata": {},
   "source": [
    "What happens if we want to change how our control algorithm works?\n",
    "\n",
    "Now let's try to keep our microgrid power below a threshold, but using fifteen minute averages. Your implemented algorithm should send setpoints that will control the microgrid such that at the end of fifteem minute intervals (based on a simulated clock, this will be on the hour, fifteen after, half-past, and quarter till), the average power for that interval does not exceed a set threshold."
   ]
  },
  {
   "cell_type": "markdown",
   "metadata": {},
   "source": [
    "After loading the stubbed calculate_setpoint function, write a python function that returns a different function"
   ]
  },
  {
   "cell_type": "code",
   "execution_count": null,
   "metadata": {
    "collapsed": true,
    "scrolled": true
   },
   "outputs": [],
   "source": [
    "algorithm_file = approot+'/kisensum/Simulation/SimulationAgent/simulation/custom_setpoint.py'\n",
    "%load $algorithm_file"
   ]
  },
  {
   "cell_type": "markdown",
   "metadata": {},
   "source": [
    "After you think you have a solution, copy the code from the above cell, and insert it below the %%writefile $file_name line in the following code block. This will write the code to our agent files."
   ]
  },
  {
   "cell_type": "code",
   "execution_count": null,
   "metadata": {
    "collapsed": true
   },
   "outputs": [],
   "source": [
    "%%writefile $algorithm_file"
   ]
  },
  {
   "cell_type": "markdown",
   "metadata": {},
   "source": [
    "Now let's rerun our SimulationAgent and take a look at the results."
   ]
  },
  {
   "cell_type": "code",
   "execution_count": null,
   "metadata": {},
   "outputs": [],
   "source": [
    "print('Wait for the message that the agent has been started.')\n",
    "NotebookUtilities.install_agent(dir=approot+'/kisensum/Simulation/SimulationAgent',\n",
    "                                id='simulationagent', \n",
    "                                config=ConfigureAgents.configure_simulation_agent_with_custom_rule())"
   ]
  },
  {
   "cell_type": "markdown",
   "metadata": {},
   "source": [
    "We can look at our new simulation in two places:\n",
    "1. Trace output in the VOLTTRON log file\n",
    "2. The graph that we created earlier today (see \"Graph Values for a Single Topic\")"
   ]
  },
  {
   "cell_type": "markdown",
   "metadata": {},
   "source": [
    "# Exercise #2: Dynamically update the Meter Target"
   ]
  },
  {
   "cell_type": "markdown",
   "metadata": {},
   "source": [
    "So far, we've had a static target for our algorithm. What if we want to optimize our algorithm so that once we set a peak, that becomes our new control point?\n",
    "\n",
    "Lets take a look at the calculated average power at the end of each 15 minute interval. If it sets a new peak, we can update our target and control to the new peak. Bonus: The peak is usually set on a monthly basis. Bonus points if on a new month, we roll the established peak back to a new, low value."
   ]
  },
  {
   "cell_type": "markdown",
   "metadata": {},
   "source": [
    "# Exercise #3: Use OpenADR to control our threshold target"
   ]
  },
  {
   "cell_type": "markdown",
   "metadata": {},
   "source": [
    "OpenADR is a Demand Response (DR) protocol that uses events to indicate when periods of load shed should occur. There are two major components to OpenADR: the VTN (Virtual Top Node) - which is reponsible for defining DR events, and the VEN (Virtual End Node) - which is reponsible for receiving DR events. In VOLTTRON, we can create a VEN Agent, which will listen for VTN defined DR events and publish them to the VOLTTRON message bus."
   ]
  },
  {
   "cell_type": "code",
   "execution_count": null,
   "metadata": {},
   "outputs": [],
   "source": [
    "print('Wait for the message that the agent has been started.')\n",
    "NotebookUtilities.install_agent(dir=vroot+'/services/core/OpenADRVenAgent',\n",
    "                                id='openadrvenagent', \n",
    "                                config=ConfigureAgents.configure_ven_agent())"
   ]
  },
  {
   "cell_type": "markdown",
   "metadata": {},
   "source": [
    "When the OpenADR Events get put on the message bus by the VEN agent, we need our Simulation Agent to pull the events off of the message bus and process them. Here's the code in our simulation agent that subscribes to the OPENADR_EVENT topic, and calls and processes the messages as they come through.\n",
    "\n",
    "    @Core.receiver('onstart')\n",
    "    def onstart_method(self, sender):\n",
    "        \"\"\"The agent has started. Perform initialization and spawn the main process loop.\"\"\"\n",
    "        _log.debug('Starting agent')\n",
    "\n",
    "        # Subscribe to the VENAgent's event and report parameter publications.\n",
    "        self.vip.pubsub.subscribe(peer='pubsub', prefix=topics.OPENADR_EVENT, callback=self.receive_event)\n",
    "\n",
    "    def receive_event(self, peer, sender, bus, topic, headers, message):\n",
    "        \"\"\"(Subscription callback) Receive a list of active events as JSON.\"\"\"\n",
    "        debug_string = 'Received event: ID={}, status={}, start={}, end={}, opt_type={}, all params={}'\n",
    "        _log.debug(debug_string.format(message['event_id'], message['status'], message['start_time'],\n",
    "                                       message['end_time'], message['opt_type'], message))\n",
    "        self.sim_data['start_event'] = message['start_time']\n",
    "        self.sim_data['end_event'] = message['end_time']"
   ]
  },
  {
   "cell_type": "markdown",
   "metadata": {},
   "source": [
    "Now we need to use this event data to set our meter target. Let's load up our stubbed method for calculating this."
   ]
  },
  {
   "cell_type": "code",
   "execution_count": null,
   "metadata": {
    "collapsed": true
   },
   "outputs": [],
   "source": [
    "meter_target_file = approot+'/kisensum/Simulation/SimulationAgent/simulation/meter_target.py'\n",
    "%load $meter_target_file"
   ]
  },
  {
   "cell_type": "markdown",
   "metadata": {},
   "source": [
    "Now, rather than just returning the default_meter_target, check the simulation data for the presence of an event and return the appropriate meter target.\n",
    "\n",
    "Don't forget to copy your code back to the file!"
   ]
  },
  {
   "cell_type": "code",
   "execution_count": null,
   "metadata": {
    "collapsed": true
   },
   "outputs": [],
   "source": [
    "%%writefile $meter_target_file"
   ]
  },
  {
   "cell_type": "markdown",
   "metadata": {},
   "source": [
    "Now we can simulate a VTN agent and send an event to the VEN agent. Three parameters are required:\n",
    "\n",
    "1. **event_id**: unique id. each event will need a new id\n",
    "2. **start_delay**: how many seconds in the future (based on simulated clock time) the event will start\n",
    "3. **event duration**: how many seconds the event will last\n",
    "\n",
    "First though, let's start up a new simulation. After it starts, go ahead and send an event!"
   ]
  },
  {
   "cell_type": "code",
   "execution_count": null,
   "metadata": {},
   "outputs": [],
   "source": [
    "print('Wait for the message that the agent has been started.')\n",
    "NotebookUtilities.install_agent(dir=approot+'/kisensum/Simulation/SimulationAgent',\n",
    "                                id='simulationagent', \n",
    "                                config=ConfigureAgents.configure_simulation_agent_with_custom_rule())"
   ]
  },
  {
   "cell_type": "markdown",
   "metadata": {},
   "source": [
    "When ready, send an OpenADR event.\n",
    "\n",
    "If you do this more than once (for example, while debugging), be sure to use a different event_id each time."
   ]
  },
  {
   "cell_type": "code",
   "execution_count": null,
   "metadata": {},
   "outputs": [],
   "source": [
    "event_id = 1\n",
    "NotebookUtilities.send_vtn_event(vroot, web_address, web_port, event_id=event_id, start_delay=300, event_duration=3600)"
   ]
  },
  {
   "cell_type": "markdown",
   "metadata": {},
   "source": [
    "# Shutdown: Stop all agents"
   ]
  },
  {
   "cell_type": "markdown",
   "metadata": {},
   "source": [
    "When finished, stop all VOLTTRON agents."
   ]
  },
  {
   "cell_type": "code",
   "execution_count": null,
   "metadata": {
    "collapsed": true
   },
   "outputs": [],
   "source": [
    "# Stop all agents.\n",
    "NotebookUtilities.sh('volttron-ctl shutdown')\n",
    "\n",
    "# Verify that all agents have been stopped.\n",
    "NotebookUtilities.print_sh('volttron-ctl status', stderr=subprocess.STDOUT)"
   ]
  }
 ],
 "metadata": {
  "kernelspec": {
   "display_name": "Python 2",
   "language": "python",
   "name": "python2"
  },
  "language_info": {
   "codemirror_mode": {
    "name": "ipython",
    "version": 2
   },
   "file_extension": ".py",
   "mimetype": "text/x-python",
   "name": "python",
   "nbconvert_exporter": "python",
   "pygments_lexer": "ipython2",
   "version": "2.7.14"
  }
 },
 "nbformat": 4,
 "nbformat_minor": 2
}
