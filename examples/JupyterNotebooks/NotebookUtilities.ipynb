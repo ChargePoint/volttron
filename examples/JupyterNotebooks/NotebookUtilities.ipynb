{
 "cells": [
  {
   "cell_type": "markdown",
   "metadata": {},
   "source": [
    "# Notebook Utilities"
   ]
  },
  {
   "cell_type": "markdown",
   "metadata": {},
   "source": [
    "Use the NotebookLoader to import this notebook into other notebooks."
   ]
  },
  {
   "cell_type": "markdown",
   "metadata": {},
   "source": [
    "# sh()"
   ]
  },
  {
   "cell_type": "markdown",
   "metadata": {},
   "source": [
    "A \"run this shell command\" method that wraps subprocess.check_output()"
   ]
  },
  {
   "cell_type": "code",
   "execution_count": null,
   "metadata": {
    "collapsed": true
   },
   "outputs": [],
   "source": [
    "import subprocess\n",
    "\n",
    "def sh(shell_command, shell=True, stderr=None):\n",
    "    try:\n",
    "        return_value = subprocess.check_output(shell_command, shell=shell, stderr=stderr)\n",
    "    except Exception, err:\n",
    "        print('Shell command failed: {}', shell_command)\n",
    "        print(err)\n",
    "        return_value = 'Error'\n",
    "    return return_value"
   ]
  },
  {
   "cell_type": "markdown",
   "metadata": {},
   "source": [
    "# print_sh()"
   ]
  },
  {
   "cell_type": "markdown",
   "metadata": {},
   "source": [
    "Same as _sh(), except that it also prints the command output, preceded by an optional label."
   ]
  },
  {
   "cell_type": "code",
   "execution_count": null,
   "metadata": {
    "collapsed": true
   },
   "outputs": [],
   "source": [
    "def print_sh(shell_command, label=None, **kwargs):\n",
    "    print('{0}: {1}\\n'.format(label+':' if label else '', sh(shell_command, **kwargs)))"
   ]
  },
  {
   "cell_type": "markdown",
   "metadata": {},
   "source": [
    "# install_driver_registry_csv()"
   ]
  },
  {
   "cell_type": "markdown",
   "metadata": {},
   "source": [
    "Install a CSV-formatted registry configuration for a device driver."
   ]
  },
  {
   "cell_type": "code",
   "execution_count": null,
   "metadata": {
    "collapsed": true
   },
   "outputs": [],
   "source": [
    "def install_driver_registry_csv(store=None, driver_root=None, name=None, csv=None):\n",
    "    sh('volttron-ctl config store {0} {1} {2} --csv'.format(store, name, driver_root + csv))"
   ]
  },
  {
   "cell_type": "markdown",
   "metadata": {},
   "source": [
    "# install_driver_config"
   ]
  },
  {
   "cell_type": "markdown",
   "metadata": {},
   "source": [
    "Install a driver configuration for a device driver."
   ]
  },
  {
   "cell_type": "code",
   "execution_count": null,
   "metadata": {
    "collapsed": true
   },
   "outputs": [],
   "source": [
    "def install_driver_config(store=None, driver_root=None, name=None, config=None):\n",
    "    sh('volttron-ctl config store {0} {1} {2}'.format(store, name, driver_root + config))"
   ]
  },
  {
   "cell_type": "markdown",
   "metadata": {},
   "source": [
    "# install_agent()"
   ]
  },
  {
   "cell_type": "markdown",
   "metadata": {},
   "source": [
    "Install a VOLTTRON agent given its directory, id, and config file"
   ]
  },
  {
   "cell_type": "code",
   "execution_count": null,
   "metadata": {
    "collapsed": true
   },
   "outputs": [],
   "source": [
    "def install_agent(dir=None, id=None, config=None):\n",
    "    script_install_command = 'python scripts/install-agent.py -s {0} -i {1} -c {2} -t {3} -f --start'\n",
    "    sh(script_install_command.format(dir, id, config, id), stderr=subprocess.STDOUT)\n",
    "    print('Installed and started {} with config {}'.format(id, config))"
   ]
  },
  {
   "cell_type": "markdown",
   "metadata": {},
   "source": [
    "# run_sqlite_cmd()"
   ]
  },
  {
   "cell_type": "markdown",
   "metadata": {},
   "source": [
    "Execute a SQLite command on the indicated database"
   ]
  },
  {
   "cell_type": "code",
   "execution_count": null,
   "metadata": {
    "collapsed": true
   },
   "outputs": [],
   "source": [
    "def run_sqlite_cmd(db_path, command_string):\n",
    "    print_sh('sqlite3 {0} {1}'.format(db_path, command_string))"
   ]
  },
  {
   "cell_type": "markdown",
   "metadata": {},
   "source": [
    "# send_vtn_event()"
   ]
  },
  {
   "cell_type": "markdown",
   "metadata": {},
   "source": [
    "Send an event as though it were from a VTN"
   ]
  },
  {
   "cell_type": "code",
   "execution_count": null,
   "metadata": {
    "collapsed": true
   },
   "outputs": [],
   "source": [
    "import isodate\n",
    "import gevent\n",
    "import requests\n",
    "from datetime import timedelta, datetime\n",
    "from volttron.platform import get_address, get_services_core\n",
    "from volttron.platform.agent import utils\n",
    "from volttron.platform.control import KeyStore, KnownHostsStore\n",
    "from volttron.platform.vip.agent import Agent\n",
    "\n",
    "def send_vtn_event(vroot, web_address, web_port, event_id, start_delay, event_duration):\n",
    "    if 'vtn_agent' not in globals().keys():\n",
    "        global vtn_agent\n",
    "        vtn_agent = Agent(identity='rpc.caller', publickey=KeyStore().public, address=get_address(),\n",
    "                          secretkey=KeyStore().secret, serverkey=KnownHostsStore().serverkey(get_address()),\n",
    "                          enable_store=False, enable_channel=True)\n",
    "        event = gevent.event.Event()\n",
    "        greenlet = gevent.spawn(vtn_agent.core.run, event)\n",
    "        event.wait()\n",
    "\n",
    "    sim_time = vtn_agent.vip.rpc.call('simulationclock', 'get_time').get(timeout=10)\n",
    "    ts = isodate.strftime(datetime.strptime(sim_time, '%Y-%m-%d %H:%M:%S')+timedelta(seconds=start_delay), isodate.DT_EXT_COMPLETE)+'Z'\n",
    "    print(ts)\n",
    "\n",
    "    eid = event_id\n",
    "    duration = isodate.duration_isoformat(timedelta(seconds=event_duration))\n",
    "    with open(vroot+'/services/core/OpenADRVenAgent/test/xml/test_vtn_distribute_event_variable.xml', 'rb') as xml_file:\n",
    "        xml_string = xml_file.read()\n",
    "        xml_string = xml_string.format(event_id=event_id, event_start_time=ts, event_duration=duration)\n",
    "        requests.post('http://{}:{}/OpenADR2/Simple/2.0b/EiEvent'.format(web_address, web_port),\n",
    "                      data=xml_string,\n",
    "                      headers={'content-type': 'application/xml'})"
   ]
  }
 ],
 "metadata": {
  "kernelspec": {
   "display_name": "Python 2",
   "language": "python",
   "name": "python2"
  },
  "language_info": {
   "codemirror_mode": {
    "name": "ipython",
    "version": 2
   },
   "file_extension": ".py",
   "mimetype": "text/x-python",
   "name": "python",
   "nbconvert_exporter": "python",
   "pygments_lexer": "ipython2",
   "version": "2.7.14"
  }
 },
 "nbformat": 4,
 "nbformat_minor": 2
}
